{
  "nbformat": 4,
  "nbformat_minor": 0,
  "metadata": {
    "colab": {
      "provenance": []
    },
    "kernelspec": {
      "name": "python3",
      "display_name": "Python 3"
    },
    "language_info": {
      "name": "python"
    }
  },
  "cells": [
    {
      "cell_type": "markdown",
      "source": [
        "**โหลด dataset มา และนำไปเก็บในตัวแปร df**"
      ],
      "metadata": {
        "id": "y4iBXREXFLR6"
      }
    },
    {
      "cell_type": "code",
      "execution_count": null,
      "metadata": {
        "colab": {
          "base_uri": "https://localhost:8080/",
          "height": 669
        },
        "id": "X4apIx7S3gvL",
        "outputId": "759082e6-1c02-4b0d-d535-6189dd5aebb4"
      },
      "outputs": [
        {
          "output_type": "execute_result",
          "data": {
            "text/plain": [
              "   anime_id                       anime_name   type  \\\n",
              "0         1                     Cowboy Bebop     TV   \n",
              "1         5  Cowboy Bebop: Tengoku no Tobira  Movie   \n",
              "2         6                           Trigun     TV   \n",
              "3         7               Witch Hunter Robin     TV   \n",
              "4         8                   Bouken Ou Beet     TV   \n",
              "\n",
              "                                             genre  episodes  rating  members  \\\n",
              "0                Action, Sci-Fi, Adult Cast, Space        26    8.75  1715493   \n",
              "1                Action, Sci-Fi, Adult Cast, Space         1    8.38   351115   \n",
              "2   Action, Adventure, Sci-Fi, Adult Cast, Shounen        26    8.21   697872   \n",
              "3  Action, Drama, Mystery, Supernatural, Detective        26    7.25   109593   \n",
              "4        Adventure, Fantasy, Supernatural, Shounen        52    6.95    14742   \n",
              "\n",
              "             title_english                    title_japanese  \\\n",
              "0             Cowboy Bebop                         カウボーイビバップ   \n",
              "1  Cowboy Bebop: The Movie                    カウボーイビバップ 天国の扉   \n",
              "2                   Trigun                             トライガン   \n",
              "3       Witch Hunter Robin  Witch Hunter ROBIN (ウイッチハンターロビン)   \n",
              "4   Beet the Vandel Buster                            冒険王ビィト   \n",
              "\n",
              "                             rate    source  \\\n",
              "0  R - 17+ (violence & profanity)  Original   \n",
              "1  R - 17+ (violence & profanity)  Original   \n",
              "2       PG-13 - Teens 13 or older     Manga   \n",
              "3       PG-13 - Teens 13 or older  Original   \n",
              "4                   PG - Children     Manga   \n",
              "\n",
              "                                           image_url    premiered  \\\n",
              "0  https://cdn.myanimelist.net/images/anime/4/196...  Spring 1998   \n",
              "1  https://cdn.myanimelist.net/images/anime/1439/...          NaN   \n",
              "2  https://cdn.myanimelist.net/images/anime/7/203...  Spring 1998   \n",
              "3  https://cdn.myanimelist.net/images/anime/10/19...  Summer 2002   \n",
              "4  https://cdn.myanimelist.net/images/anime/7/215...    Fall 2004   \n",
              "\n",
              "           studio                         aired         duration  \n",
              "0         Sunrise   Apr 3, 1998 to Apr 24, 1999  24 min. per ep.  \n",
              "1           Bones                   Sep 1, 2001    1 hr. 55 min.  \n",
              "2        Madhouse   Apr 1, 1998 to Sep 30, 1998  24 min. per ep.  \n",
              "3         Sunrise   Jul 3, 2002 to Dec 25, 2002  25 min. per ep.  \n",
              "4  Toei Animation  Sep 30, 2004 to Sep 29, 2005  23 min. per ep.  "
            ],
            "text/html": [
              "\n",
              "  <div id=\"df-95fdfa66-844e-49d2-94ae-47c6c59dcd65\">\n",
              "    <div class=\"colab-df-container\">\n",
              "      <div>\n",
              "<style scoped>\n",
              "    .dataframe tbody tr th:only-of-type {\n",
              "        vertical-align: middle;\n",
              "    }\n",
              "\n",
              "    .dataframe tbody tr th {\n",
              "        vertical-align: top;\n",
              "    }\n",
              "\n",
              "    .dataframe thead th {\n",
              "        text-align: right;\n",
              "    }\n",
              "</style>\n",
              "<table border=\"1\" class=\"dataframe\">\n",
              "  <thead>\n",
              "    <tr style=\"text-align: right;\">\n",
              "      <th></th>\n",
              "      <th>anime_id</th>\n",
              "      <th>anime_name</th>\n",
              "      <th>type</th>\n",
              "      <th>genre</th>\n",
              "      <th>episodes</th>\n",
              "      <th>rating</th>\n",
              "      <th>members</th>\n",
              "      <th>title_english</th>\n",
              "      <th>title_japanese</th>\n",
              "      <th>rate</th>\n",
              "      <th>source</th>\n",
              "      <th>image_url</th>\n",
              "      <th>premiered</th>\n",
              "      <th>studio</th>\n",
              "      <th>aired</th>\n",
              "      <th>duration</th>\n",
              "    </tr>\n",
              "  </thead>\n",
              "  <tbody>\n",
              "    <tr>\n",
              "      <th>0</th>\n",
              "      <td>1</td>\n",
              "      <td>Cowboy Bebop</td>\n",
              "      <td>TV</td>\n",
              "      <td>Action, Sci-Fi, Adult Cast, Space</td>\n",
              "      <td>26</td>\n",
              "      <td>8.75</td>\n",
              "      <td>1715493</td>\n",
              "      <td>Cowboy Bebop</td>\n",
              "      <td>カウボーイビバップ</td>\n",
              "      <td>R - 17+ (violence &amp; profanity)</td>\n",
              "      <td>Original</td>\n",
              "      <td>https://cdn.myanimelist.net/images/anime/4/196...</td>\n",
              "      <td>Spring 1998</td>\n",
              "      <td>Sunrise</td>\n",
              "      <td>Apr 3, 1998 to Apr 24, 1999</td>\n",
              "      <td>24 min. per ep.</td>\n",
              "    </tr>\n",
              "    <tr>\n",
              "      <th>1</th>\n",
              "      <td>5</td>\n",
              "      <td>Cowboy Bebop: Tengoku no Tobira</td>\n",
              "      <td>Movie</td>\n",
              "      <td>Action, Sci-Fi, Adult Cast, Space</td>\n",
              "      <td>1</td>\n",
              "      <td>8.38</td>\n",
              "      <td>351115</td>\n",
              "      <td>Cowboy Bebop: The Movie</td>\n",
              "      <td>カウボーイビバップ 天国の扉</td>\n",
              "      <td>R - 17+ (violence &amp; profanity)</td>\n",
              "      <td>Original</td>\n",
              "      <td>https://cdn.myanimelist.net/images/anime/1439/...</td>\n",
              "      <td>NaN</td>\n",
              "      <td>Bones</td>\n",
              "      <td>Sep 1, 2001</td>\n",
              "      <td>1 hr. 55 min.</td>\n",
              "    </tr>\n",
              "    <tr>\n",
              "      <th>2</th>\n",
              "      <td>6</td>\n",
              "      <td>Trigun</td>\n",
              "      <td>TV</td>\n",
              "      <td>Action, Adventure, Sci-Fi, Adult Cast, Shounen</td>\n",
              "      <td>26</td>\n",
              "      <td>8.21</td>\n",
              "      <td>697872</td>\n",
              "      <td>Trigun</td>\n",
              "      <td>トライガン</td>\n",
              "      <td>PG-13 - Teens 13 or older</td>\n",
              "      <td>Manga</td>\n",
              "      <td>https://cdn.myanimelist.net/images/anime/7/203...</td>\n",
              "      <td>Spring 1998</td>\n",
              "      <td>Madhouse</td>\n",
              "      <td>Apr 1, 1998 to Sep 30, 1998</td>\n",
              "      <td>24 min. per ep.</td>\n",
              "    </tr>\n",
              "    <tr>\n",
              "      <th>3</th>\n",
              "      <td>7</td>\n",
              "      <td>Witch Hunter Robin</td>\n",
              "      <td>TV</td>\n",
              "      <td>Action, Drama, Mystery, Supernatural, Detective</td>\n",
              "      <td>26</td>\n",
              "      <td>7.25</td>\n",
              "      <td>109593</td>\n",
              "      <td>Witch Hunter Robin</td>\n",
              "      <td>Witch Hunter ROBIN (ウイッチハンターロビン)</td>\n",
              "      <td>PG-13 - Teens 13 or older</td>\n",
              "      <td>Original</td>\n",
              "      <td>https://cdn.myanimelist.net/images/anime/10/19...</td>\n",
              "      <td>Summer 2002</td>\n",
              "      <td>Sunrise</td>\n",
              "      <td>Jul 3, 2002 to Dec 25, 2002</td>\n",
              "      <td>25 min. per ep.</td>\n",
              "    </tr>\n",
              "    <tr>\n",
              "      <th>4</th>\n",
              "      <td>8</td>\n",
              "      <td>Bouken Ou Beet</td>\n",
              "      <td>TV</td>\n",
              "      <td>Adventure, Fantasy, Supernatural, Shounen</td>\n",
              "      <td>52</td>\n",
              "      <td>6.95</td>\n",
              "      <td>14742</td>\n",
              "      <td>Beet the Vandel Buster</td>\n",
              "      <td>冒険王ビィト</td>\n",
              "      <td>PG - Children</td>\n",
              "      <td>Manga</td>\n",
              "      <td>https://cdn.myanimelist.net/images/anime/7/215...</td>\n",
              "      <td>Fall 2004</td>\n",
              "      <td>Toei Animation</td>\n",
              "      <td>Sep 30, 2004 to Sep 29, 2005</td>\n",
              "      <td>23 min. per ep.</td>\n",
              "    </tr>\n",
              "  </tbody>\n",
              "</table>\n",
              "</div>\n",
              "      <button class=\"colab-df-convert\" onclick=\"convertToInteractive('df-95fdfa66-844e-49d2-94ae-47c6c59dcd65')\"\n",
              "              title=\"Convert this dataframe to an interactive table.\"\n",
              "              style=\"display:none;\">\n",
              "        \n",
              "  <svg xmlns=\"http://www.w3.org/2000/svg\" height=\"24px\"viewBox=\"0 0 24 24\"\n",
              "       width=\"24px\">\n",
              "    <path d=\"M0 0h24v24H0V0z\" fill=\"none\"/>\n",
              "    <path d=\"M18.56 5.44l.94 2.06.94-2.06 2.06-.94-2.06-.94-.94-2.06-.94 2.06-2.06.94zm-11 1L8.5 8.5l.94-2.06 2.06-.94-2.06-.94L8.5 2.5l-.94 2.06-2.06.94zm10 10l.94 2.06.94-2.06 2.06-.94-2.06-.94-.94-2.06-.94 2.06-2.06.94z\"/><path d=\"M17.41 7.96l-1.37-1.37c-.4-.4-.92-.59-1.43-.59-.52 0-1.04.2-1.43.59L10.3 9.45l-7.72 7.72c-.78.78-.78 2.05 0 2.83L4 21.41c.39.39.9.59 1.41.59.51 0 1.02-.2 1.41-.59l7.78-7.78 2.81-2.81c.8-.78.8-2.07 0-2.86zM5.41 20L4 18.59l7.72-7.72 1.47 1.35L5.41 20z\"/>\n",
              "  </svg>\n",
              "      </button>\n",
              "      \n",
              "  <style>\n",
              "    .colab-df-container {\n",
              "      display:flex;\n",
              "      flex-wrap:wrap;\n",
              "      gap: 12px;\n",
              "    }\n",
              "\n",
              "    .colab-df-convert {\n",
              "      background-color: #E8F0FE;\n",
              "      border: none;\n",
              "      border-radius: 50%;\n",
              "      cursor: pointer;\n",
              "      display: none;\n",
              "      fill: #1967D2;\n",
              "      height: 32px;\n",
              "      padding: 0 0 0 0;\n",
              "      width: 32px;\n",
              "    }\n",
              "\n",
              "    .colab-df-convert:hover {\n",
              "      background-color: #E2EBFA;\n",
              "      box-shadow: 0px 1px 2px rgba(60, 64, 67, 0.3), 0px 1px 3px 1px rgba(60, 64, 67, 0.15);\n",
              "      fill: #174EA6;\n",
              "    }\n",
              "\n",
              "    [theme=dark] .colab-df-convert {\n",
              "      background-color: #3B4455;\n",
              "      fill: #D2E3FC;\n",
              "    }\n",
              "\n",
              "    [theme=dark] .colab-df-convert:hover {\n",
              "      background-color: #434B5C;\n",
              "      box-shadow: 0px 1px 3px 1px rgba(0, 0, 0, 0.15);\n",
              "      filter: drop-shadow(0px 1px 2px rgba(0, 0, 0, 0.3));\n",
              "      fill: #FFFFFF;\n",
              "    }\n",
              "  </style>\n",
              "\n",
              "      <script>\n",
              "        const buttonEl =\n",
              "          document.querySelector('#df-95fdfa66-844e-49d2-94ae-47c6c59dcd65 button.colab-df-convert');\n",
              "        buttonEl.style.display =\n",
              "          google.colab.kernel.accessAllowed ? 'block' : 'none';\n",
              "\n",
              "        async function convertToInteractive(key) {\n",
              "          const element = document.querySelector('#df-95fdfa66-844e-49d2-94ae-47c6c59dcd65');\n",
              "          const dataTable =\n",
              "            await google.colab.kernel.invokeFunction('convertToInteractive',\n",
              "                                                     [key], {});\n",
              "          if (!dataTable) return;\n",
              "\n",
              "          const docLinkHtml = 'Like what you see? Visit the ' +\n",
              "            '<a target=\"_blank\" href=https://colab.research.google.com/notebooks/data_table.ipynb>data table notebook</a>'\n",
              "            + ' to learn more about interactive tables.';\n",
              "          element.innerHTML = '';\n",
              "          dataTable['output_type'] = 'display_data';\n",
              "          await google.colab.output.renderOutput(dataTable, element);\n",
              "          const docLink = document.createElement('div');\n",
              "          docLink.innerHTML = docLinkHtml;\n",
              "          element.appendChild(docLink);\n",
              "        }\n",
              "      </script>\n",
              "    </div>\n",
              "  </div>\n",
              "  "
            ]
          },
          "metadata": {},
          "execution_count": 1
        }
      ],
      "source": [
        "import pandas as pd\n",
        "\n",
        "url_anime = \"https://rmutp-my.sharepoint.com/personal/chananuwat-c_o365_rmutp_ac_th/_layouts/15/download.aspx?e=pToaPf&share=Ed9DmPL-bnpOrJA6o2rorfkBSozh9JLX__GYoX-vt2brgQ\"\n",
        "\n",
        "df = pd.read_csv(url_anime)\n",
        "df.head()"
      ]
    },
    {
      "cell_type": "markdown",
      "source": [
        "**เลือก columns ที่จะทำไปใช้ train**"
      ],
      "metadata": {
        "id": "BmTsNPQMtjji"
      }
    },
    {
      "cell_type": "code",
      "source": [
        "df_anime = df[['anime_id', 'anime_name', 'type', 'genre', 'episodes', 'rating', 'members']]\n",
        "df_anime"
      ],
      "metadata": {
        "id": "s3K8ZGtotSO5",
        "colab": {
          "base_uri": "https://localhost:8080/",
          "height": 424
        },
        "outputId": "0549c5e9-1e88-4f9b-a88c-396bb0ef0f57"
      },
      "execution_count": null,
      "outputs": [
        {
          "output_type": "execute_result",
          "data": {
            "text/plain": [
              "       anime_id                       anime_name     type  \\\n",
              "0             1                     Cowboy Bebop       TV   \n",
              "1             5  Cowboy Bebop: Tengoku no Tobira    Movie   \n",
              "2             6                           Trigun       TV   \n",
              "3             7               Witch Hunter Robin       TV   \n",
              "4             8                   Bouken Ou Beet       TV   \n",
              "...         ...                              ...      ...   \n",
              "23768     54298               Pacalien (Special)  Special   \n",
              "23769     54299                  Yakedo to Hoshi    Movie   \n",
              "23770     54300                             Dawn    Movie   \n",
              "23771     54301                        Overtake!       TV   \n",
              "23772     54305           Thru the Moebius Strip    Movie   \n",
              "\n",
              "                                                 genre  episodes  rating  \\\n",
              "0                    Action, Sci-Fi, Adult Cast, Space        26    8.75   \n",
              "1                    Action, Sci-Fi, Adult Cast, Space         1    8.38   \n",
              "2       Action, Adventure, Sci-Fi, Adult Cast, Shounen        26    8.21   \n",
              "3      Action, Drama, Mystery, Supernatural, Detective        26    7.25   \n",
              "4            Adventure, Fantasy, Supernatural, Shounen        52    6.95   \n",
              "...                                                ...       ...     ...   \n",
              "23768          Comedy, Horror, Sci-Fi, Anthropomorphic         4    6.43   \n",
              "23769                                      Avant Garde         1    6.43   \n",
              "23770                                    Slice of Life         1    6.43   \n",
              "23771                                           Racing         2    6.43   \n",
              "23772                                Adventure, Sci-Fi         1    6.43   \n",
              "\n",
              "       members  \n",
              "0      1715493  \n",
              "1       351115  \n",
              "2       697872  \n",
              "3       109593  \n",
              "4        14742  \n",
              "...        ...  \n",
              "23768       27  \n",
              "23769       22  \n",
              "23770       16  \n",
              "23771      892  \n",
              "23772        0  \n",
              "\n",
              "[23773 rows x 7 columns]"
            ],
            "text/html": [
              "\n",
              "  <div id=\"df-3ca5af64-f78e-4c11-8f71-fee8ca67abaf\">\n",
              "    <div class=\"colab-df-container\">\n",
              "      <div>\n",
              "<style scoped>\n",
              "    .dataframe tbody tr th:only-of-type {\n",
              "        vertical-align: middle;\n",
              "    }\n",
              "\n",
              "    .dataframe tbody tr th {\n",
              "        vertical-align: top;\n",
              "    }\n",
              "\n",
              "    .dataframe thead th {\n",
              "        text-align: right;\n",
              "    }\n",
              "</style>\n",
              "<table border=\"1\" class=\"dataframe\">\n",
              "  <thead>\n",
              "    <tr style=\"text-align: right;\">\n",
              "      <th></th>\n",
              "      <th>anime_id</th>\n",
              "      <th>anime_name</th>\n",
              "      <th>type</th>\n",
              "      <th>genre</th>\n",
              "      <th>episodes</th>\n",
              "      <th>rating</th>\n",
              "      <th>members</th>\n",
              "    </tr>\n",
              "  </thead>\n",
              "  <tbody>\n",
              "    <tr>\n",
              "      <th>0</th>\n",
              "      <td>1</td>\n",
              "      <td>Cowboy Bebop</td>\n",
              "      <td>TV</td>\n",
              "      <td>Action, Sci-Fi, Adult Cast, Space</td>\n",
              "      <td>26</td>\n",
              "      <td>8.75</td>\n",
              "      <td>1715493</td>\n",
              "    </tr>\n",
              "    <tr>\n",
              "      <th>1</th>\n",
              "      <td>5</td>\n",
              "      <td>Cowboy Bebop: Tengoku no Tobira</td>\n",
              "      <td>Movie</td>\n",
              "      <td>Action, Sci-Fi, Adult Cast, Space</td>\n",
              "      <td>1</td>\n",
              "      <td>8.38</td>\n",
              "      <td>351115</td>\n",
              "    </tr>\n",
              "    <tr>\n",
              "      <th>2</th>\n",
              "      <td>6</td>\n",
              "      <td>Trigun</td>\n",
              "      <td>TV</td>\n",
              "      <td>Action, Adventure, Sci-Fi, Adult Cast, Shounen</td>\n",
              "      <td>26</td>\n",
              "      <td>8.21</td>\n",
              "      <td>697872</td>\n",
              "    </tr>\n",
              "    <tr>\n",
              "      <th>3</th>\n",
              "      <td>7</td>\n",
              "      <td>Witch Hunter Robin</td>\n",
              "      <td>TV</td>\n",
              "      <td>Action, Drama, Mystery, Supernatural, Detective</td>\n",
              "      <td>26</td>\n",
              "      <td>7.25</td>\n",
              "      <td>109593</td>\n",
              "    </tr>\n",
              "    <tr>\n",
              "      <th>4</th>\n",
              "      <td>8</td>\n",
              "      <td>Bouken Ou Beet</td>\n",
              "      <td>TV</td>\n",
              "      <td>Adventure, Fantasy, Supernatural, Shounen</td>\n",
              "      <td>52</td>\n",
              "      <td>6.95</td>\n",
              "      <td>14742</td>\n",
              "    </tr>\n",
              "    <tr>\n",
              "      <th>...</th>\n",
              "      <td>...</td>\n",
              "      <td>...</td>\n",
              "      <td>...</td>\n",
              "      <td>...</td>\n",
              "      <td>...</td>\n",
              "      <td>...</td>\n",
              "      <td>...</td>\n",
              "    </tr>\n",
              "    <tr>\n",
              "      <th>23768</th>\n",
              "      <td>54298</td>\n",
              "      <td>Pacalien (Special)</td>\n",
              "      <td>Special</td>\n",
              "      <td>Comedy, Horror, Sci-Fi, Anthropomorphic</td>\n",
              "      <td>4</td>\n",
              "      <td>6.43</td>\n",
              "      <td>27</td>\n",
              "    </tr>\n",
              "    <tr>\n",
              "      <th>23769</th>\n",
              "      <td>54299</td>\n",
              "      <td>Yakedo to Hoshi</td>\n",
              "      <td>Movie</td>\n",
              "      <td>Avant Garde</td>\n",
              "      <td>1</td>\n",
              "      <td>6.43</td>\n",
              "      <td>22</td>\n",
              "    </tr>\n",
              "    <tr>\n",
              "      <th>23770</th>\n",
              "      <td>54300</td>\n",
              "      <td>Dawn</td>\n",
              "      <td>Movie</td>\n",
              "      <td>Slice of Life</td>\n",
              "      <td>1</td>\n",
              "      <td>6.43</td>\n",
              "      <td>16</td>\n",
              "    </tr>\n",
              "    <tr>\n",
              "      <th>23771</th>\n",
              "      <td>54301</td>\n",
              "      <td>Overtake!</td>\n",
              "      <td>TV</td>\n",
              "      <td>Racing</td>\n",
              "      <td>2</td>\n",
              "      <td>6.43</td>\n",
              "      <td>892</td>\n",
              "    </tr>\n",
              "    <tr>\n",
              "      <th>23772</th>\n",
              "      <td>54305</td>\n",
              "      <td>Thru the Moebius Strip</td>\n",
              "      <td>Movie</td>\n",
              "      <td>Adventure, Sci-Fi</td>\n",
              "      <td>1</td>\n",
              "      <td>6.43</td>\n",
              "      <td>0</td>\n",
              "    </tr>\n",
              "  </tbody>\n",
              "</table>\n",
              "<p>23773 rows × 7 columns</p>\n",
              "</div>\n",
              "      <button class=\"colab-df-convert\" onclick=\"convertToInteractive('df-3ca5af64-f78e-4c11-8f71-fee8ca67abaf')\"\n",
              "              title=\"Convert this dataframe to an interactive table.\"\n",
              "              style=\"display:none;\">\n",
              "        \n",
              "  <svg xmlns=\"http://www.w3.org/2000/svg\" height=\"24px\"viewBox=\"0 0 24 24\"\n",
              "       width=\"24px\">\n",
              "    <path d=\"M0 0h24v24H0V0z\" fill=\"none\"/>\n",
              "    <path d=\"M18.56 5.44l.94 2.06.94-2.06 2.06-.94-2.06-.94-.94-2.06-.94 2.06-2.06.94zm-11 1L8.5 8.5l.94-2.06 2.06-.94-2.06-.94L8.5 2.5l-.94 2.06-2.06.94zm10 10l.94 2.06.94-2.06 2.06-.94-2.06-.94-.94-2.06-.94 2.06-2.06.94z\"/><path d=\"M17.41 7.96l-1.37-1.37c-.4-.4-.92-.59-1.43-.59-.52 0-1.04.2-1.43.59L10.3 9.45l-7.72 7.72c-.78.78-.78 2.05 0 2.83L4 21.41c.39.39.9.59 1.41.59.51 0 1.02-.2 1.41-.59l7.78-7.78 2.81-2.81c.8-.78.8-2.07 0-2.86zM5.41 20L4 18.59l7.72-7.72 1.47 1.35L5.41 20z\"/>\n",
              "  </svg>\n",
              "      </button>\n",
              "      \n",
              "  <style>\n",
              "    .colab-df-container {\n",
              "      display:flex;\n",
              "      flex-wrap:wrap;\n",
              "      gap: 12px;\n",
              "    }\n",
              "\n",
              "    .colab-df-convert {\n",
              "      background-color: #E8F0FE;\n",
              "      border: none;\n",
              "      border-radius: 50%;\n",
              "      cursor: pointer;\n",
              "      display: none;\n",
              "      fill: #1967D2;\n",
              "      height: 32px;\n",
              "      padding: 0 0 0 0;\n",
              "      width: 32px;\n",
              "    }\n",
              "\n",
              "    .colab-df-convert:hover {\n",
              "      background-color: #E2EBFA;\n",
              "      box-shadow: 0px 1px 2px rgba(60, 64, 67, 0.3), 0px 1px 3px 1px rgba(60, 64, 67, 0.15);\n",
              "      fill: #174EA6;\n",
              "    }\n",
              "\n",
              "    [theme=dark] .colab-df-convert {\n",
              "      background-color: #3B4455;\n",
              "      fill: #D2E3FC;\n",
              "    }\n",
              "\n",
              "    [theme=dark] .colab-df-convert:hover {\n",
              "      background-color: #434B5C;\n",
              "      box-shadow: 0px 1px 3px 1px rgba(0, 0, 0, 0.15);\n",
              "      filter: drop-shadow(0px 1px 2px rgba(0, 0, 0, 0.3));\n",
              "      fill: #FFFFFF;\n",
              "    }\n",
              "  </style>\n",
              "\n",
              "      <script>\n",
              "        const buttonEl =\n",
              "          document.querySelector('#df-3ca5af64-f78e-4c11-8f71-fee8ca67abaf button.colab-df-convert');\n",
              "        buttonEl.style.display =\n",
              "          google.colab.kernel.accessAllowed ? 'block' : 'none';\n",
              "\n",
              "        async function convertToInteractive(key) {\n",
              "          const element = document.querySelector('#df-3ca5af64-f78e-4c11-8f71-fee8ca67abaf');\n",
              "          const dataTable =\n",
              "            await google.colab.kernel.invokeFunction('convertToInteractive',\n",
              "                                                     [key], {});\n",
              "          if (!dataTable) return;\n",
              "\n",
              "          const docLinkHtml = 'Like what you see? Visit the ' +\n",
              "            '<a target=\"_blank\" href=https://colab.research.google.com/notebooks/data_table.ipynb>data table notebook</a>'\n",
              "            + ' to learn more about interactive tables.';\n",
              "          element.innerHTML = '';\n",
              "          dataTable['output_type'] = 'display_data';\n",
              "          await google.colab.output.renderOutput(dataTable, element);\n",
              "          const docLink = document.createElement('div');\n",
              "          docLink.innerHTML = docLinkHtml;\n",
              "          element.appendChild(docLink);\n",
              "        }\n",
              "      </script>\n",
              "    </div>\n",
              "  </div>\n",
              "  "
            ]
          },
          "metadata": {},
          "execution_count": 3
        }
      ]
    },
    {
      "cell_type": "markdown",
      "source": [
        "**กรอง anime_name ให้เหลือแต่ตัวอักษรและตัวเลข**"
      ],
      "metadata": {
        "id": "ZoR1m-27TCkB"
      }
    },
    {
      "cell_type": "code",
      "source": [
        "import re\n",
        "\n",
        "df_anime.anime_name = df_anime.anime_name.map(lambda name:re.sub('[^A-Za-z0-9]+', \" \", name))\n",
        "df_anime.head()"
      ],
      "metadata": {
        "colab": {
          "base_uri": "https://localhost:8080/",
          "height": 310
        },
        "id": "HEe30NJzdM2G",
        "outputId": "9a220d5d-4ba2-4aaf-dac6-c6f50aac31fa"
      },
      "execution_count": null,
      "outputs": [
        {
          "output_type": "stream",
          "name": "stderr",
          "text": [
            "/usr/local/lib/python3.8/dist-packages/pandas/core/generic.py:5516: SettingWithCopyWarning: \n",
            "A value is trying to be set on a copy of a slice from a DataFrame.\n",
            "Try using .loc[row_indexer,col_indexer] = value instead\n",
            "\n",
            "See the caveats in the documentation: https://pandas.pydata.org/pandas-docs/stable/user_guide/indexing.html#returning-a-view-versus-a-copy\n",
            "  self[name] = value\n"
          ]
        },
        {
          "output_type": "execute_result",
          "data": {
            "text/plain": [
              "   anime_id                      anime_name   type  \\\n",
              "0         1                    Cowboy Bebop     TV   \n",
              "1         5  Cowboy Bebop Tengoku no Tobira  Movie   \n",
              "2         6                          Trigun     TV   \n",
              "3         7              Witch Hunter Robin     TV   \n",
              "4         8                  Bouken Ou Beet     TV   \n",
              "\n",
              "                                             genre  episodes  rating  members  \n",
              "0                Action, Sci-Fi, Adult Cast, Space        26    8.75  1715493  \n",
              "1                Action, Sci-Fi, Adult Cast, Space         1    8.38   351115  \n",
              "2   Action, Adventure, Sci-Fi, Adult Cast, Shounen        26    8.21   697872  \n",
              "3  Action, Drama, Mystery, Supernatural, Detective        26    7.25   109593  \n",
              "4        Adventure, Fantasy, Supernatural, Shounen        52    6.95    14742  "
            ],
            "text/html": [
              "\n",
              "  <div id=\"df-882b981b-d71a-4ac5-84b4-2ed807075fff\">\n",
              "    <div class=\"colab-df-container\">\n",
              "      <div>\n",
              "<style scoped>\n",
              "    .dataframe tbody tr th:only-of-type {\n",
              "        vertical-align: middle;\n",
              "    }\n",
              "\n",
              "    .dataframe tbody tr th {\n",
              "        vertical-align: top;\n",
              "    }\n",
              "\n",
              "    .dataframe thead th {\n",
              "        text-align: right;\n",
              "    }\n",
              "</style>\n",
              "<table border=\"1\" class=\"dataframe\">\n",
              "  <thead>\n",
              "    <tr style=\"text-align: right;\">\n",
              "      <th></th>\n",
              "      <th>anime_id</th>\n",
              "      <th>anime_name</th>\n",
              "      <th>type</th>\n",
              "      <th>genre</th>\n",
              "      <th>episodes</th>\n",
              "      <th>rating</th>\n",
              "      <th>members</th>\n",
              "    </tr>\n",
              "  </thead>\n",
              "  <tbody>\n",
              "    <tr>\n",
              "      <th>0</th>\n",
              "      <td>1</td>\n",
              "      <td>Cowboy Bebop</td>\n",
              "      <td>TV</td>\n",
              "      <td>Action, Sci-Fi, Adult Cast, Space</td>\n",
              "      <td>26</td>\n",
              "      <td>8.75</td>\n",
              "      <td>1715493</td>\n",
              "    </tr>\n",
              "    <tr>\n",
              "      <th>1</th>\n",
              "      <td>5</td>\n",
              "      <td>Cowboy Bebop Tengoku no Tobira</td>\n",
              "      <td>Movie</td>\n",
              "      <td>Action, Sci-Fi, Adult Cast, Space</td>\n",
              "      <td>1</td>\n",
              "      <td>8.38</td>\n",
              "      <td>351115</td>\n",
              "    </tr>\n",
              "    <tr>\n",
              "      <th>2</th>\n",
              "      <td>6</td>\n",
              "      <td>Trigun</td>\n",
              "      <td>TV</td>\n",
              "      <td>Action, Adventure, Sci-Fi, Adult Cast, Shounen</td>\n",
              "      <td>26</td>\n",
              "      <td>8.21</td>\n",
              "      <td>697872</td>\n",
              "    </tr>\n",
              "    <tr>\n",
              "      <th>3</th>\n",
              "      <td>7</td>\n",
              "      <td>Witch Hunter Robin</td>\n",
              "      <td>TV</td>\n",
              "      <td>Action, Drama, Mystery, Supernatural, Detective</td>\n",
              "      <td>26</td>\n",
              "      <td>7.25</td>\n",
              "      <td>109593</td>\n",
              "    </tr>\n",
              "    <tr>\n",
              "      <th>4</th>\n",
              "      <td>8</td>\n",
              "      <td>Bouken Ou Beet</td>\n",
              "      <td>TV</td>\n",
              "      <td>Adventure, Fantasy, Supernatural, Shounen</td>\n",
              "      <td>52</td>\n",
              "      <td>6.95</td>\n",
              "      <td>14742</td>\n",
              "    </tr>\n",
              "  </tbody>\n",
              "</table>\n",
              "</div>\n",
              "      <button class=\"colab-df-convert\" onclick=\"convertToInteractive('df-882b981b-d71a-4ac5-84b4-2ed807075fff')\"\n",
              "              title=\"Convert this dataframe to an interactive table.\"\n",
              "              style=\"display:none;\">\n",
              "        \n",
              "  <svg xmlns=\"http://www.w3.org/2000/svg\" height=\"24px\"viewBox=\"0 0 24 24\"\n",
              "       width=\"24px\">\n",
              "    <path d=\"M0 0h24v24H0V0z\" fill=\"none\"/>\n",
              "    <path d=\"M18.56 5.44l.94 2.06.94-2.06 2.06-.94-2.06-.94-.94-2.06-.94 2.06-2.06.94zm-11 1L8.5 8.5l.94-2.06 2.06-.94-2.06-.94L8.5 2.5l-.94 2.06-2.06.94zm10 10l.94 2.06.94-2.06 2.06-.94-2.06-.94-.94-2.06-.94 2.06-2.06.94z\"/><path d=\"M17.41 7.96l-1.37-1.37c-.4-.4-.92-.59-1.43-.59-.52 0-1.04.2-1.43.59L10.3 9.45l-7.72 7.72c-.78.78-.78 2.05 0 2.83L4 21.41c.39.39.9.59 1.41.59.51 0 1.02-.2 1.41-.59l7.78-7.78 2.81-2.81c.8-.78.8-2.07 0-2.86zM5.41 20L4 18.59l7.72-7.72 1.47 1.35L5.41 20z\"/>\n",
              "  </svg>\n",
              "      </button>\n",
              "      \n",
              "  <style>\n",
              "    .colab-df-container {\n",
              "      display:flex;\n",
              "      flex-wrap:wrap;\n",
              "      gap: 12px;\n",
              "    }\n",
              "\n",
              "    .colab-df-convert {\n",
              "      background-color: #E8F0FE;\n",
              "      border: none;\n",
              "      border-radius: 50%;\n",
              "      cursor: pointer;\n",
              "      display: none;\n",
              "      fill: #1967D2;\n",
              "      height: 32px;\n",
              "      padding: 0 0 0 0;\n",
              "      width: 32px;\n",
              "    }\n",
              "\n",
              "    .colab-df-convert:hover {\n",
              "      background-color: #E2EBFA;\n",
              "      box-shadow: 0px 1px 2px rgba(60, 64, 67, 0.3), 0px 1px 3px 1px rgba(60, 64, 67, 0.15);\n",
              "      fill: #174EA6;\n",
              "    }\n",
              "\n",
              "    [theme=dark] .colab-df-convert {\n",
              "      background-color: #3B4455;\n",
              "      fill: #D2E3FC;\n",
              "    }\n",
              "\n",
              "    [theme=dark] .colab-df-convert:hover {\n",
              "      background-color: #434B5C;\n",
              "      box-shadow: 0px 1px 3px 1px rgba(0, 0, 0, 0.15);\n",
              "      filter: drop-shadow(0px 1px 2px rgba(0, 0, 0, 0.3));\n",
              "      fill: #FFFFFF;\n",
              "    }\n",
              "  </style>\n",
              "\n",
              "      <script>\n",
              "        const buttonEl =\n",
              "          document.querySelector('#df-882b981b-d71a-4ac5-84b4-2ed807075fff button.colab-df-convert');\n",
              "        buttonEl.style.display =\n",
              "          google.colab.kernel.accessAllowed ? 'block' : 'none';\n",
              "\n",
              "        async function convertToInteractive(key) {\n",
              "          const element = document.querySelector('#df-882b981b-d71a-4ac5-84b4-2ed807075fff');\n",
              "          const dataTable =\n",
              "            await google.colab.kernel.invokeFunction('convertToInteractive',\n",
              "                                                     [key], {});\n",
              "          if (!dataTable) return;\n",
              "\n",
              "          const docLinkHtml = 'Like what you see? Visit the ' +\n",
              "            '<a target=\"_blank\" href=https://colab.research.google.com/notebooks/data_table.ipynb>data table notebook</a>'\n",
              "            + ' to learn more about interactive tables.';\n",
              "          element.innerHTML = '';\n",
              "          dataTable['output_type'] = 'display_data';\n",
              "          await google.colab.output.renderOutput(dataTable, element);\n",
              "          const docLink = document.createElement('div');\n",
              "          docLink.innerHTML = docLinkHtml;\n",
              "          element.appendChild(docLink);\n",
              "        }\n",
              "      </script>\n",
              "    </div>\n",
              "  </div>\n",
              "  "
            ]
          },
          "metadata": {},
          "execution_count": 4
        }
      ]
    },
    {
      "cell_type": "markdown",
      "source": [
        "**สร้าง dummies ของ genres และ types ให้กับอนิเมะ**"
      ],
      "metadata": {
        "id": "l1WUEzQVvRpw"
      }
    },
    {
      "cell_type": "code",
      "source": [
        "genres_dummies = df_anime.genre.str.get_dummies(sep=', ')\n",
        "genre_types = pd.get_dummies(df_anime.type)"
      ],
      "metadata": {
        "id": "t74Xim6Puii6"
      },
      "execution_count": null,
      "outputs": []
    },
    {
      "cell_type": "markdown",
      "source": [
        "**สร้าง features เพื่อเตรียมในการ train model**"
      ],
      "metadata": {
        "id": "Kgigjb36vY6V"
      }
    },
    {
      "cell_type": "code",
      "source": [
        "anime_features = pd.concat([genres_dummies, genre_types, df_anime.episodes, df_anime.rating, df_anime.members],axis=1)\n",
        "anime_features.head()"
      ],
      "metadata": {
        "colab": {
          "base_uri": "https://localhost:8080/",
          "height": 317
        },
        "id": "Wugd0WCqTZ92",
        "outputId": "f14cd9c7-3e7f-4fa9-e7f3-117c88097bc8"
      },
      "execution_count": null,
      "outputs": [
        {
          "output_type": "execute_result",
          "data": {
            "text/plain": [
              "   Action  Adult Cast  Adventure  Anthropomorphic  Avant Garde  Award Winning  \\\n",
              "0       1           1          0                0            0              0   \n",
              "1       1           1          0                0            0              0   \n",
              "2       1           1          1                0            0              0   \n",
              "3       1           0          0                0            0              0   \n",
              "4       0           0          1                0            0              0   \n",
              "\n",
              "   Boys Love  CGDCT  Childcare  Combat Sports  ...  Movie  Music  ONA  OVA  \\\n",
              "0          0      0          0              0  ...      0      0    0    0   \n",
              "1          0      0          0              0  ...      1      0    0    0   \n",
              "2          0      0          0              0  ...      0      0    0    0   \n",
              "3          0      0          0              0  ...      0      0    0    0   \n",
              "4          0      0          0              0  ...      0      0    0    0   \n",
              "\n",
              "   Special  TV  Unknown  episodes  rating  members  \n",
              "0        0   1        0        26    8.75  1715493  \n",
              "1        0   0        0         1    8.38   351115  \n",
              "2        0   1        0        26    8.21   697872  \n",
              "3        0   1        0        26    7.25   109593  \n",
              "4        0   1        0        52    6.95    14742  \n",
              "\n",
              "[5 rows x 87 columns]"
            ],
            "text/html": [
              "\n",
              "  <div id=\"df-c497236c-b65a-49a0-8ae9-cbfad33c9328\">\n",
              "    <div class=\"colab-df-container\">\n",
              "      <div>\n",
              "<style scoped>\n",
              "    .dataframe tbody tr th:only-of-type {\n",
              "        vertical-align: middle;\n",
              "    }\n",
              "\n",
              "    .dataframe tbody tr th {\n",
              "        vertical-align: top;\n",
              "    }\n",
              "\n",
              "    .dataframe thead th {\n",
              "        text-align: right;\n",
              "    }\n",
              "</style>\n",
              "<table border=\"1\" class=\"dataframe\">\n",
              "  <thead>\n",
              "    <tr style=\"text-align: right;\">\n",
              "      <th></th>\n",
              "      <th>Action</th>\n",
              "      <th>Adult Cast</th>\n",
              "      <th>Adventure</th>\n",
              "      <th>Anthropomorphic</th>\n",
              "      <th>Avant Garde</th>\n",
              "      <th>Award Winning</th>\n",
              "      <th>Boys Love</th>\n",
              "      <th>CGDCT</th>\n",
              "      <th>Childcare</th>\n",
              "      <th>Combat Sports</th>\n",
              "      <th>...</th>\n",
              "      <th>Movie</th>\n",
              "      <th>Music</th>\n",
              "      <th>ONA</th>\n",
              "      <th>OVA</th>\n",
              "      <th>Special</th>\n",
              "      <th>TV</th>\n",
              "      <th>Unknown</th>\n",
              "      <th>episodes</th>\n",
              "      <th>rating</th>\n",
              "      <th>members</th>\n",
              "    </tr>\n",
              "  </thead>\n",
              "  <tbody>\n",
              "    <tr>\n",
              "      <th>0</th>\n",
              "      <td>1</td>\n",
              "      <td>1</td>\n",
              "      <td>0</td>\n",
              "      <td>0</td>\n",
              "      <td>0</td>\n",
              "      <td>0</td>\n",
              "      <td>0</td>\n",
              "      <td>0</td>\n",
              "      <td>0</td>\n",
              "      <td>0</td>\n",
              "      <td>...</td>\n",
              "      <td>0</td>\n",
              "      <td>0</td>\n",
              "      <td>0</td>\n",
              "      <td>0</td>\n",
              "      <td>0</td>\n",
              "      <td>1</td>\n",
              "      <td>0</td>\n",
              "      <td>26</td>\n",
              "      <td>8.75</td>\n",
              "      <td>1715493</td>\n",
              "    </tr>\n",
              "    <tr>\n",
              "      <th>1</th>\n",
              "      <td>1</td>\n",
              "      <td>1</td>\n",
              "      <td>0</td>\n",
              "      <td>0</td>\n",
              "      <td>0</td>\n",
              "      <td>0</td>\n",
              "      <td>0</td>\n",
              "      <td>0</td>\n",
              "      <td>0</td>\n",
              "      <td>0</td>\n",
              "      <td>...</td>\n",
              "      <td>1</td>\n",
              "      <td>0</td>\n",
              "      <td>0</td>\n",
              "      <td>0</td>\n",
              "      <td>0</td>\n",
              "      <td>0</td>\n",
              "      <td>0</td>\n",
              "      <td>1</td>\n",
              "      <td>8.38</td>\n",
              "      <td>351115</td>\n",
              "    </tr>\n",
              "    <tr>\n",
              "      <th>2</th>\n",
              "      <td>1</td>\n",
              "      <td>1</td>\n",
              "      <td>1</td>\n",
              "      <td>0</td>\n",
              "      <td>0</td>\n",
              "      <td>0</td>\n",
              "      <td>0</td>\n",
              "      <td>0</td>\n",
              "      <td>0</td>\n",
              "      <td>0</td>\n",
              "      <td>...</td>\n",
              "      <td>0</td>\n",
              "      <td>0</td>\n",
              "      <td>0</td>\n",
              "      <td>0</td>\n",
              "      <td>0</td>\n",
              "      <td>1</td>\n",
              "      <td>0</td>\n",
              "      <td>26</td>\n",
              "      <td>8.21</td>\n",
              "      <td>697872</td>\n",
              "    </tr>\n",
              "    <tr>\n",
              "      <th>3</th>\n",
              "      <td>1</td>\n",
              "      <td>0</td>\n",
              "      <td>0</td>\n",
              "      <td>0</td>\n",
              "      <td>0</td>\n",
              "      <td>0</td>\n",
              "      <td>0</td>\n",
              "      <td>0</td>\n",
              "      <td>0</td>\n",
              "      <td>0</td>\n",
              "      <td>...</td>\n",
              "      <td>0</td>\n",
              "      <td>0</td>\n",
              "      <td>0</td>\n",
              "      <td>0</td>\n",
              "      <td>0</td>\n",
              "      <td>1</td>\n",
              "      <td>0</td>\n",
              "      <td>26</td>\n",
              "      <td>7.25</td>\n",
              "      <td>109593</td>\n",
              "    </tr>\n",
              "    <tr>\n",
              "      <th>4</th>\n",
              "      <td>0</td>\n",
              "      <td>0</td>\n",
              "      <td>1</td>\n",
              "      <td>0</td>\n",
              "      <td>0</td>\n",
              "      <td>0</td>\n",
              "      <td>0</td>\n",
              "      <td>0</td>\n",
              "      <td>0</td>\n",
              "      <td>0</td>\n",
              "      <td>...</td>\n",
              "      <td>0</td>\n",
              "      <td>0</td>\n",
              "      <td>0</td>\n",
              "      <td>0</td>\n",
              "      <td>0</td>\n",
              "      <td>1</td>\n",
              "      <td>0</td>\n",
              "      <td>52</td>\n",
              "      <td>6.95</td>\n",
              "      <td>14742</td>\n",
              "    </tr>\n",
              "  </tbody>\n",
              "</table>\n",
              "<p>5 rows × 87 columns</p>\n",
              "</div>\n",
              "      <button class=\"colab-df-convert\" onclick=\"convertToInteractive('df-c497236c-b65a-49a0-8ae9-cbfad33c9328')\"\n",
              "              title=\"Convert this dataframe to an interactive table.\"\n",
              "              style=\"display:none;\">\n",
              "        \n",
              "  <svg xmlns=\"http://www.w3.org/2000/svg\" height=\"24px\"viewBox=\"0 0 24 24\"\n",
              "       width=\"24px\">\n",
              "    <path d=\"M0 0h24v24H0V0z\" fill=\"none\"/>\n",
              "    <path d=\"M18.56 5.44l.94 2.06.94-2.06 2.06-.94-2.06-.94-.94-2.06-.94 2.06-2.06.94zm-11 1L8.5 8.5l.94-2.06 2.06-.94-2.06-.94L8.5 2.5l-.94 2.06-2.06.94zm10 10l.94 2.06.94-2.06 2.06-.94-2.06-.94-.94-2.06-.94 2.06-2.06.94z\"/><path d=\"M17.41 7.96l-1.37-1.37c-.4-.4-.92-.59-1.43-.59-.52 0-1.04.2-1.43.59L10.3 9.45l-7.72 7.72c-.78.78-.78 2.05 0 2.83L4 21.41c.39.39.9.59 1.41.59.51 0 1.02-.2 1.41-.59l7.78-7.78 2.81-2.81c.8-.78.8-2.07 0-2.86zM5.41 20L4 18.59l7.72-7.72 1.47 1.35L5.41 20z\"/>\n",
              "  </svg>\n",
              "      </button>\n",
              "      \n",
              "  <style>\n",
              "    .colab-df-container {\n",
              "      display:flex;\n",
              "      flex-wrap:wrap;\n",
              "      gap: 12px;\n",
              "    }\n",
              "\n",
              "    .colab-df-convert {\n",
              "      background-color: #E8F0FE;\n",
              "      border: none;\n",
              "      border-radius: 50%;\n",
              "      cursor: pointer;\n",
              "      display: none;\n",
              "      fill: #1967D2;\n",
              "      height: 32px;\n",
              "      padding: 0 0 0 0;\n",
              "      width: 32px;\n",
              "    }\n",
              "\n",
              "    .colab-df-convert:hover {\n",
              "      background-color: #E2EBFA;\n",
              "      box-shadow: 0px 1px 2px rgba(60, 64, 67, 0.3), 0px 1px 3px 1px rgba(60, 64, 67, 0.15);\n",
              "      fill: #174EA6;\n",
              "    }\n",
              "\n",
              "    [theme=dark] .colab-df-convert {\n",
              "      background-color: #3B4455;\n",
              "      fill: #D2E3FC;\n",
              "    }\n",
              "\n",
              "    [theme=dark] .colab-df-convert:hover {\n",
              "      background-color: #434B5C;\n",
              "      box-shadow: 0px 1px 3px 1px rgba(0, 0, 0, 0.15);\n",
              "      filter: drop-shadow(0px 1px 2px rgba(0, 0, 0, 0.3));\n",
              "      fill: #FFFFFF;\n",
              "    }\n",
              "  </style>\n",
              "\n",
              "      <script>\n",
              "        const buttonEl =\n",
              "          document.querySelector('#df-c497236c-b65a-49a0-8ae9-cbfad33c9328 button.colab-df-convert');\n",
              "        buttonEl.style.display =\n",
              "          google.colab.kernel.accessAllowed ? 'block' : 'none';\n",
              "\n",
              "        async function convertToInteractive(key) {\n",
              "          const element = document.querySelector('#df-c497236c-b65a-49a0-8ae9-cbfad33c9328');\n",
              "          const dataTable =\n",
              "            await google.colab.kernel.invokeFunction('convertToInteractive',\n",
              "                                                     [key], {});\n",
              "          if (!dataTable) return;\n",
              "\n",
              "          const docLinkHtml = 'Like what you see? Visit the ' +\n",
              "            '<a target=\"_blank\" href=https://colab.research.google.com/notebooks/data_table.ipynb>data table notebook</a>'\n",
              "            + ' to learn more about interactive tables.';\n",
              "          element.innerHTML = '';\n",
              "          dataTable['output_type'] = 'display_data';\n",
              "          await google.colab.output.renderOutput(dataTable, element);\n",
              "          const docLink = document.createElement('div');\n",
              "          docLink.innerHTML = docLinkHtml;\n",
              "          element.appendChild(docLink);\n",
              "        }\n",
              "      </script>\n",
              "    </div>\n",
              "  </div>\n",
              "  "
            ]
          },
          "metadata": {},
          "execution_count": 36
        }
      ]
    },
    {
      "cell_type": "markdown",
      "source": [
        "**ดูว่าตัวแปร anime_features มี columns อะไรบ้าง**"
      ],
      "metadata": {
        "id": "fGyJ6AjjFQbp"
      }
    },
    {
      "cell_type": "code",
      "source": [
        "anime_features.columns"
      ],
      "metadata": {
        "colab": {
          "base_uri": "https://localhost:8080/"
        },
        "id": "4LN6H--JYE_o",
        "outputId": "3b6d22f6-c609-42ab-e544-09e6e8280b98"
      },
      "execution_count": null,
      "outputs": [
        {
          "output_type": "execute_result",
          "data": {
            "text/plain": [
              "Index(['Action', 'Adult Cast', 'Adventure', 'Anthropomorphic', 'Avant Garde',\n",
              "       'Award Winning', 'Boys Love', 'CGDCT', 'Childcare', 'Combat Sports',\n",
              "       'Comedy', 'Crossdressing', 'Delinquents', 'Detective', 'Drama', 'Ecchi',\n",
              "       'Educational', 'Erotica', 'Fantasy', 'Gag Humor', 'Girls Love', 'Gore',\n",
              "       'Gourmet', 'Harem', 'Hentai', 'High Stakes Game', 'Historical',\n",
              "       'Horror', 'Idols (Female)', 'Idols (Male)', 'Isekai', 'Iyashikei',\n",
              "       'Josei', 'Kids', 'Love Polygon', 'Magical Sex Shift', 'Magical girl',\n",
              "       'Mahou Shoujo', 'Martial Arts', 'Mecha', 'Medical', 'Military', 'Music',\n",
              "       'Mystery', 'Mythology', 'Organized Crime', 'Otaku Culture', 'Parody',\n",
              "       'Performing Arts', 'Pets', 'Psychological', 'Racing', 'Reincarnation',\n",
              "       'Reverse Harem', 'Romance', 'Romantic Subtext', 'Samurai', 'School',\n",
              "       'Sci-Fi', 'Seinen', 'Shoujo', 'Shounen', 'Showbiz', 'Slice of Life',\n",
              "       'Space', 'Sports', 'Strategy Game', 'Super Power', 'Supernatural',\n",
              "       'Survival', 'Suspense', 'Team Sports', 'Time Travel', 'Vampire',\n",
              "       'Video Game', 'Visual Arts', 'Workplace', 'Movie', 'Music', 'ONA',\n",
              "       'OVA', 'Special', 'TV', 'Unknown', 'episodes', 'rating', 'members'],\n",
              "      dtype='object')"
            ]
          },
          "metadata": {},
          "execution_count": 37
        }
      ]
    },
    {
      "cell_type": "markdown",
      "source": [
        "**แทนค่าที่ไม่ซ้ำกันลงใน anime_features**"
      ],
      "metadata": {
        "id": "NnWLSSZDFRci"
      }
    },
    {
      "cell_type": "code",
      "source": [
        "from sklearn.preprocessing import MaxAbsScaler\n",
        "\n",
        "max_abs_scaler = MaxAbsScaler()\n",
        "anime_features = max_abs_scaler.fit_transform(anime_features)"
      ],
      "metadata": {
        "id": "GhtENbRBYsMF"
      },
      "execution_count": null,
      "outputs": []
    },
    {
      "cell_type": "markdown",
      "source": [
        "**ดูว่าตัวแปร anime_features เก็บค่าอะไรไว้**"
      ],
      "metadata": {
        "id": "n-reJjSXFSXJ"
      }
    },
    {
      "cell_type": "code",
      "source": [
        "anime_features"
      ],
      "metadata": {
        "colab": {
          "base_uri": "https://localhost:8080/"
        },
        "id": "OXrcrpRrpgVS",
        "outputId": "4009ea22-baf3-4108-aafa-d48ed4556326"
      },
      "execution_count": null,
      "outputs": [
        {
          "output_type": "execute_result",
          "data": {
            "text/plain": [
              "array([[1.00000000e+00, 1.00000000e+00, 0.00000000e+00, ...,\n",
              "        3.28282828e-03, 9.60482986e-01, 4.72679665e-01],\n",
              "       [1.00000000e+00, 1.00000000e+00, 0.00000000e+00, ...,\n",
              "        1.26262626e-04, 9.19868277e-01, 9.67447379e-02],\n",
              "       [1.00000000e+00, 1.00000000e+00, 1.00000000e+00, ...,\n",
              "        3.28282828e-03, 9.01207464e-01, 1.92288691e-01],\n",
              "       ...,\n",
              "       [0.00000000e+00, 0.00000000e+00, 0.00000000e+00, ...,\n",
              "        1.26262626e-04, 7.05817783e-01, 4.40857214e-06],\n",
              "       [0.00000000e+00, 0.00000000e+00, 0.00000000e+00, ...,\n",
              "        2.52525253e-04, 7.05817783e-01, 2.45777897e-04],\n",
              "       [0.00000000e+00, 0.00000000e+00, 1.00000000e+00, ...,\n",
              "        1.26262626e-04, 7.05817783e-01, 0.00000000e+00]])"
            ]
          },
          "metadata": {},
          "execution_count": 39
        }
      ]
    },
    {
      "cell_type": "markdown",
      "source": [
        "**นำ anime_features มาหาข้อมูลที่ใกล้เคียงโดยแบ่งเป็นไบนารี่ทรี**"
      ],
      "metadata": {
        "id": "EeCTN-V4FThx"
      }
    },
    {
      "cell_type": "code",
      "source": [
        "from sklearn.neighbors import NearestNeighbors\n",
        "nbrs = NearestNeighbors(n_neighbors=21, algorithm='ball_tree').fit(anime_features)\n",
        "distances, indices = nbrs.kneighbors(anime_features)"
      ],
      "metadata": {
        "id": "EnkzgGbzCDOj"
      },
      "execution_count": null,
      "outputs": []
    },
    {
      "cell_type": "markdown",
      "source": [
        "**เอาคอลลัม index มาเชื่อมกับชื่อ**"
      ],
      "metadata": {
        "id": "x8Tt-E4uFVkJ"
      }
    },
    {
      "cell_type": "code",
      "source": [
        "def get_index_from_name(name):\n",
        "    return df_anime[df_anime.anime_name == name].index.tolist()[0]"
      ],
      "metadata": {
        "id": "ScpObud0ZDmx"
      },
      "execution_count": null,
      "outputs": []
    },
    {
      "cell_type": "markdown",
      "source": [
        "**ลองใช้ get index from name หา index จากชื่อ**"
      ],
      "metadata": {
        "id": "lw97xhwpFW-T"
      }
    },
    {
      "cell_type": "code",
      "source": [
        "get_index_from_name('Owari no Seraph')"
      ],
      "metadata": {
        "colab": {
          "base_uri": "https://localhost:8080/"
        },
        "id": "-JcdbMXkZcUs",
        "outputId": "74e3cd4c-c556-45cf-8b06-4aa604e90f12"
      },
      "execution_count": null,
      "outputs": [
        {
          "output_type": "execute_result",
          "data": {
            "text/plain": [
              "9472"
            ]
          },
          "metadata": {},
          "execution_count": 42
        }
      ]
    },
    {
      "cell_type": "markdown",
      "source": [
        "**สร้างตัวแปร all_anime_names ให้เก็บค่าชื่อ anime โดยใช้ list เข้ามาช่วยจัด**"
      ],
      "metadata": {
        "id": "GFO64dgmFYX5"
      }
    },
    {
      "cell_type": "code",
      "source": [
        "all_anime_names = list(df_anime.anime_name.values)"
      ],
      "metadata": {
        "id": "biehAUAsZtOy"
      },
      "execution_count": null,
      "outputs": []
    },
    {
      "cell_type": "markdown",
      "source": [
        "**ทำการสร้างฟังชั่นเพื่อให้อนิเมะที่มีชื่อเหมือนกัน**"
      ],
      "metadata": {
        "id": "KR5zu1i8FbQR"
      }
    },
    {
      "cell_type": "code",
      "source": [
        "def get_id_from_partial_name(partial):\n",
        "    for name in all_anime_names:\n",
        "        if partial in name:\n",
        "            print(name,all_anime_names.index(name))"
      ],
      "metadata": {
        "id": "oyp1xg7Cat-r"
      },
      "execution_count": null,
      "outputs": []
    },
    {
      "cell_type": "markdown",
      "source": [
        "**ทำการทดลองใช้**"
      ],
      "metadata": {
        "id": "CsIVl6-GFcTx"
      }
    },
    {
      "cell_type": "code",
      "source": [
        "get_id_from_partial_name('Sword Art Online')"
      ],
      "metadata": {
        "colab": {
          "base_uri": "https://localhost:8080/"
        },
        "id": "sqoKpjwja_Ua",
        "outputId": "de579a56-da3c-4f38-b8f9-45a7e1acb4f8"
      },
      "execution_count": null,
      "outputs": [
        {
          "output_type": "stream",
          "name": "stdout",
          "text": [
            "Sword Art Online 6626\n",
            "Sword Art Online Sword Art Offline 7386\n",
            "Sword Art Online Extra Edition 8207\n",
            "Sword Art Online Sword Art Offline Extra Edition 8546\n",
            "Sword Art Online II 8547\n",
            "Sword Art Online II Debriefing 9634\n",
            "Sword Art Online II Sword Art Offline II 9669\n",
            "Sword Art Online Movie Ordinal Scale 11029\n",
            "Sword Art Online Movie Ordinal Scale Sword Art Offline 13473\n",
            "Sword Art Online Alicization 13488\n",
            "Sword Art Online Alternative Gun Gale Online 13489\n",
            "Sword Art Online Fatal Bullet The Third Episode Pilot ban 13988\n",
            "Sword Art Online Fatal Bullet The Third Episode 14041\n",
            "Sword Art Online Alternative Gun Gale Online Refrain 14337\n",
            "Sword Art Online Alicization Recollection 15247\n",
            "Sword Art Online Alicization War of Underworld 15459\n",
            "Sword Art Online Alicization War of Underworld Reflection 15941\n",
            "Sword Art Online Alicization War of Underworld 2nd Season 15967\n",
            "Sword Art Online Alicization War of Underworld Recap 16414\n",
            "Sword Art Online Progressive Movie Hoshi Naki Yoru no Aria 17066\n",
            "Sword Art Online Progressive Movie Kuraki Yuuyami no Scherzo 21562\n",
            "Sword Art Online Original Movie  23249\n",
            "Sword Art Online Full Dive Opening Eizou 23261\n"
          ]
        }
      ]
    },
    {
      "cell_type": "markdown",
      "source": [
        "**ทำการสร้างฟังชั่นเพื่อหาอนิเมะที่มีความคล้ายกัน**"
      ],
      "metadata": {
        "id": "F0Q3KE4qFdMh"
      }
    },
    {
      "cell_type": "code",
      "source": [
        "def print_similar_animes(query=None,id=None):\n",
        "    if id:\n",
        "        for id in indices[id][1:]:\n",
        "            print(df_anime.iloc[id][\"anime_name\"])\n",
        "    if query:\n",
        "        found_id = get_index_from_name(query)\n",
        "        for id in indices[found_id][1:]:\n",
        "            print(df_anime.iloc[id][\"anime_name\"])"
      ],
      "metadata": {
        "id": "LgjqmI6ab9Jk"
      },
      "execution_count": null,
      "outputs": []
    },
    {
      "cell_type": "markdown",
      "source": [
        "**ทดลองใช้ฟังชั่นโดยใส่ id ของ anime ลงไป**"
      ],
      "metadata": {
        "id": "LFJjoiOKFe6h"
      }
    },
    {
      "cell_type": "code",
      "source": [
        "indices[21983][1:]"
      ],
      "metadata": {
        "colab": {
          "base_uri": "https://localhost:8080/"
        },
        "id": "Hcq2POjcrbcD",
        "outputId": "17ffce4e-553d-4640-aab7-1723a62b27fc"
      },
      "execution_count": null,
      "outputs": [
        {
          "output_type": "execute_result",
          "data": {
            "text/plain": [
              "array([13007, 14231, 14201, 15970,   390])"
            ]
          },
          "metadata": {},
          "execution_count": 52
        }
      ]
    },
    {
      "cell_type": "code",
      "source": [
        "for id in indices[21983][1:]:\n",
        "  print(id)\n",
        "  print(df_anime.iloc[id][\"anime_name\"])"
      ],
      "metadata": {
        "colab": {
          "base_uri": "https://localhost:8080/"
        },
        "id": "r_NQUPykrNdJ",
        "outputId": "496c897e-5f71-4b37-863d-bf5a732919c3"
      },
      "execution_count": null,
      "outputs": [
        {
          "output_type": "stream",
          "name": "stdout",
          "text": [
            "13007\n",
            "Toji no Miko\n",
            "14231\n",
            "Fate Extra Last Encore Illustrias Tendousetsu\n",
            "14201\n",
            "Magatsu Wahrheit Zuerst\n",
            "15970\n",
            "Assault Lily Bouquet\n",
            "390\n",
            "Ragnar k The Animation\n"
          ]
        }
      ]
    },
    {
      "cell_type": "markdown",
      "source": [
        "**ทำการลองใช้ id ทำการหาอนิเมะที่มีความคล้ายๆกัน**"
      ],
      "metadata": {
        "id": "Q8rYBnqyFlXy"
      }
    },
    {
      "cell_type": "code",
      "source": [
        "print_similar_animes(id=21983)"
      ],
      "metadata": {
        "colab": {
          "base_uri": "https://localhost:8080/"
        },
        "id": "28yNEsGPexSI",
        "outputId": "1f18a054-ec41-4e78-f3e5-019ac3ad0be4"
      },
      "execution_count": null,
      "outputs": [
        {
          "output_type": "stream",
          "name": "stdout",
          "text": [
            "Toji no Miko\n",
            "Fate Extra Last Encore Illustrias Tendousetsu\n",
            "Magatsu Wahrheit Zuerst\n",
            "Assault Lily Bouquet\n",
            "Ragnar k The Animation\n"
          ]
        }
      ]
    },
    {
      "cell_type": "markdown",
      "source": [
        "**Save model file**"
      ],
      "metadata": {
        "id": "xnSEaBarvneb"
      }
    },
    {
      "cell_type": "code",
      "source": [
        "import numpy as np\n",
        "\n",
        "np.save('indices.npy', indices)"
      ],
      "metadata": {
        "id": "DFtdEMrqsbyT"
      },
      "execution_count": null,
      "outputs": []
    },
    {
      "cell_type": "markdown",
      "source": [
        "**Load model file**"
      ],
      "metadata": {
        "id": "v8AVrFcPvsW7"
      }
    },
    {
      "cell_type": "code",
      "source": [
        "import numpy as np\n",
        "loaded_indices = np.load('indices.npy')"
      ],
      "metadata": {
        "id": "h5WhMzqKstER"
      },
      "execution_count": null,
      "outputs": []
    },
    {
      "cell_type": "code",
      "source": [
        "loaded_indices.shape"
      ],
      "metadata": {
        "colab": {
          "base_uri": "https://localhost:8080/"
        },
        "id": "s1Vo7PumsylE",
        "outputId": "c7b505ea-a423-44a1-d34d-d17ff04592ea"
      },
      "execution_count": null,
      "outputs": [
        {
          "output_type": "execute_result",
          "data": {
            "text/plain": [
              "(23773, 21)"
            ]
          },
          "metadata": {},
          "execution_count": 66
        }
      ]
    }
  ]
}